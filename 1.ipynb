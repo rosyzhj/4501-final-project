{
 "cells": [
  {
   "cell_type": "markdown",
   "id": "de0a12de-5550-48c8-811a-f92b8702c792",
   "metadata": {},
   "source": [
    "`fetch_taxi_data` Function retrieves taxi ride data for a specified date from the database, returning the count of taxi rides per hour.<br>\n",
    "Parameters:<br>\n",
    "date: A string representing the date in 'YYYY-MM-DD' format.<br>\n",
    "Returns:<br>\n",
    "A DataFrame containing the count of taxi rides for each hour of the specified date.<br>\n",
    "<br>\n",
    "`animated_histogram` Function creates an animated histogram that displays the number of taxi rides per hour over a specified date range.<br>\n",
    "Parameters:<br>\n",
    "start_date: The start date for the animation in 'YYYY-MM-DD' format.<br>\n",
    "end_date: The end date for the animation in 'YYYY-MM-DD' format.<br>\n",
    "interval: The time interval (in milliseconds) between frames in the animation.<br>\n",
    "filename: The filename to save the animated GIF.<br>\n",
    "Internal Function `update`:<br>\n",
    "`update` function updates the histogram for each frame of the animation, displaying the taxi ride counts for the current date.<br>"
   ]
  },
  {
   "cell_type": "code",
   "execution_count": 39,
   "id": "4e0f093c-024e-4cb0-a299-6c732873ba5b",
   "metadata": {},
   "outputs": [],
   "source": [
    "%matplotlib inline"
   ]
  },
  {
   "cell_type": "code",
   "execution_count": 41,
   "id": "569601d7-2f39-44b1-a0b4-c1d4c9c3d93b",
   "metadata": {},
   "outputs": [],
   "source": [
    "import numpy as np\n",
    "import pandas as pd\n",
    "import matplotlib.pyplot as plt\n",
    "from matplotlib.animation import FuncAnimation\n",
    "from sqlalchemy import create_engine\n",
    "from matplotlib.animation import PillowWriter\n",
    "from datetime import datetime, timedelta"
   ]
  },
  {
   "cell_type": "code",
   "execution_count": 43,
   "id": "0fcb375e-f2a1-425a-a999-e287ec785aa7",
   "metadata": {},
   "outputs": [],
   "source": [
    "DATABASE_URL = \"sqlite:///project.db\"\n",
    "engine = create_engine(DATABASE_URL)"
   ]
  },
  {
   "cell_type": "code",
   "execution_count": 45,
   "id": "8826f5fe-d966-41a7-8ba4-2f0dd79167d1",
   "metadata": {},
   "outputs": [],
   "source": [
    "def fetch_taxi_data(date: str) -> pd.DataFrame:\n",
    "    \"\"\"\n",
    "    Fetches taxi ride data for a specific date from the database.\n",
    "\n",
    "    Args:\n",
    "        date (str): The date for which to fetch the taxi ride data in 'YYYY-MM-DD' format.\n",
    "\n",
    "    Returns:\n",
    "        pd.DataFrame: A DataFrame containing the count of taxi rides per hour for the specified date.\n",
    "    \"\"\"\n",
    "    query = f\"\"\"\n",
    "    SELECT \n",
    "        strftime('%H', tpep_pickup_datetime) AS hour,\n",
    "        COUNT(*) AS ride_count\n",
    "    FROM \n",
    "        taxi_trips\n",
    "    WHERE \n",
    "        date(tpep_pickup_datetime) = '{date}'\n",
    "    GROUP BY \n",
    "        hour\n",
    "    ORDER BY \n",
    "        hour;\n",
    "    \"\"\"\n",
    "    return pd.read_sql(query, con=engine)\n",
    "\n",
    "def animated_histogram(start_date: str, end_date: str, interval: int, filename: str) -> None:\n",
    "    \"\"\"\n",
    "    Creates an animated histogram of taxi rides per hour over a specified date range.\n",
    "\n",
    "    Args:\n",
    "        start_date (str): The start date for the animation in 'YYYY-MM-DD' format.\n",
    "        end_date (str): The end date for the animation in 'YYYY-MM-DD' format.\n",
    "        interval (int): The time interval (in milliseconds) between frames in the animation.\n",
    "        filename (str): The filename to save the animated GIF.\n",
    "    \"\"\"\n",
    "    fig, ax = plt.subplots()\n",
    "    \n",
    "    # Generate a range of dates from start to end\n",
    "    date_range = pd.date_range(start=start_date, end=end_date)\n",
    "    current_day_index = 0\n",
    "\n",
    "    # Initialize the bar container for 24 hours\n",
    "    hours = np.arange(24)\n",
    "    bar_container = ax.bar(hours, np.zeros(24), color='blue', alpha=0.7)\n",
    "\n",
    "    # Set the y-axis limit\n",
    "    ax.set_ylim(0, 10)\n",
    "\n",
    "    def update(frame: int) -> None:\n",
    "        \"\"\"\n",
    "        Updates the histogram for each frame of the animation.\n",
    "\n",
    "        Args:\n",
    "            frame (int): The current frame number in the animation.\n",
    "        \"\"\"\n",
    "        nonlocal current_day_index\n",
    "        if current_day_index < len(date_range):\n",
    "            current_date = date_range[current_day_index].date()\n",
    "            new_data = fetch_taxi_data(current_date)\n",
    "            counts = np.zeros(24)\n",
    "\n",
    "            # Fill the counts array with ride counts for each hour\n",
    "            for _, row in new_data.iterrows():\n",
    "                hour_index = int(row['hour'])\n",
    "                counts[hour_index] = min(row['ride_count'], 100)  # Limit to a maximum of 100\n",
    "\n",
    "            # Update the heights of the bars in the histogram\n",
    "            for bar, count in zip(bar_container, counts):\n",
    "                bar.set_height(count)\n",
    "\n",
    "            # Set the title for the current date\n",
    "            ax.set_title(f\"Taxi Rides on {current_date}\")\n",
    "            current_day_index += 1\n",
    "\n",
    "        plt.draw()\n",
    "\n",
    "    # Create the animation\n",
    "    anim = FuncAnimation(fig, update, frames=len(date_range), interval=interval)\n",
    "    ax.set_xlabel(\"Hour of the Day\")\n",
    "    ax.set_ylabel(\"Number of Rides\")\n",
    "\n",
    "    # Save the animation as a GIF file\n",
    "    anim.save(filename, writer=PillowWriter(fps=10))\n",
    "    plt.show()"
   ]
  },
  {
   "cell_type": "code",
   "execution_count": 47,
   "id": "a06a92c9-ddaf-4b7f-8bf7-b28465bbf142",
   "metadata": {},
   "outputs": [
    {
     "data": {
      "image/png": "[encoded data removed]",
      "text/plain": [
       "<Figure size 640x480 with 1 Axes>"
      ]
     },
     "metadata": {},
     "output_type": "display_data"
    }
   ],
   "source": [
    "# Define the start and end dates for the animation\n",
    "start_date = \"2020-01-01\"\n",
    "end_date = \"2024-08-31\"\n",
    "\n",
    "# Run the animated histogram function\n",
    "animated_histogram(start_date, end_date, interval=100, filename='taxi_rides_animation.gif')"
   ]
  },
  {
   "cell_type": "code",
   "execution_count": null,
   "id": "04bc4eb7-f847-409a-b300-3adcb7738b73",
   "metadata": {},
   "outputs": [],
   "source": []
  }
 ],
 "metadata": {
  "kernelspec": {
   "display_name": "Python 3 (ipykernel)",
   "language": "python",
   "name": "python3"
  },
  "language_info": {
   "codemirror_mode": {
    "name": "ipython",
    "version": 3
   },
   "file_extension": ".py",
   "mimetype": "text/x-python",
   "name": "python",
   "nbconvert_exporter": "python",
   "pygments_lexer": "ipython3",
   "version": "3.12.7"
  }
 },
 "nbformat": 4,
 "nbformat_minor": 5
}
